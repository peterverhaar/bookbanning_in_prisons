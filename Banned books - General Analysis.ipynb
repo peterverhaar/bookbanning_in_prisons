{
 "cells": [
  {
   "cell_type": "code",
   "execution_count": 1,
   "id": "39663c30",
   "metadata": {},
   "outputs": [],
   "source": [
    "import pandas as pd\n",
    "import matplotlib.pyplot as plt\n",
    "import seaborn as sns\n",
    "import re\n",
    "\n",
    "import nltk\n",
    "from nltk import word_tokenize\n",
    "from collections import Counter\n",
    "\n",
    "from nltk.stem import WordNetLemmatizer\n",
    "lemmatiser = WordNetLemmatizer()\n",
    "\n",
    "from nltk.corpus import stopwords\n",
    "stopword_list = stopwords.words('english')\n",
    "\n",
    "import string\n",
    "for punct_mark in string.punctuation:\n",
    "    stopword_list.append(punct_mark)"
   ]
  },
  {
   "cell_type": "code",
   "execution_count": 27,
   "id": "94ea0c09",
   "metadata": {},
   "outputs": [
    {
     "name": "stdout",
     "output_type": "stream",
     "text": [
      "(55278, 8)\n"
     ]
    },
    {
     "data": {
      "text/html": [
       "<div>\n",
       "<style scoped>\n",
       "    .dataframe tbody tr th:only-of-type {\n",
       "        vertical-align: middle;\n",
       "    }\n",
       "\n",
       "    .dataframe tbody tr th {\n",
       "        vertical-align: top;\n",
       "    }\n",
       "\n",
       "    .dataframe thead th {\n",
       "        text-align: right;\n",
       "    }\n",
       "</style>\n",
       "<table border=\"1\" class=\"dataframe\">\n",
       "  <thead>\n",
       "    <tr style=\"text-align: right;\">\n",
       "      <th></th>\n",
       "      <th>publication</th>\n",
       "      <th>author</th>\n",
       "      <th>date</th>\n",
       "      <th>year</th>\n",
       "      <th>month</th>\n",
       "      <th>day</th>\n",
       "      <th>reason</th>\n",
       "      <th>state_arc</th>\n",
       "    </tr>\n",
       "  </thead>\n",
       "  <tbody>\n",
       "    <tr>\n",
       "      <th>0</th>\n",
       "      <td>[ARABIC LANGUAGE CHARACTERS].</td>\n",
       "      <td>NaN</td>\n",
       "      <td>2019-12-18 00:00:00</td>\n",
       "      <td>2019.0</td>\n",
       "      <td>12.0</td>\n",
       "      <td>18.0</td>\n",
       "      <td>NaN</td>\n",
       "      <td>fl</td>\n",
       "    </tr>\n",
       "    <tr>\n",
       "      <th>1</th>\n",
       "      <td>[ARABIC LANGUAGE CHARACTERS]. TAJWEED QURAN.</td>\n",
       "      <td>NaN</td>\n",
       "      <td>2021-09-09 00:00:00</td>\n",
       "      <td>2021.0</td>\n",
       "      <td>9.0</td>\n",
       "      <td>9.0</td>\n",
       "      <td>NaN</td>\n",
       "      <td>fl</td>\n",
       "    </tr>\n",
       "    <tr>\n",
       "      <th>2</th>\n",
       "      <td>[KOREAN LANGUAGE CHARACTERS] HOLY SPIRIT LOVE.</td>\n",
       "      <td>NaN</td>\n",
       "      <td>2021-02-25 00:00:00</td>\n",
       "      <td>2021.0</td>\n",
       "      <td>2.0</td>\n",
       "      <td>25.0</td>\n",
       "      <td>NaN</td>\n",
       "      <td>fl</td>\n",
       "    </tr>\n",
       "    <tr>\n",
       "      <th>3</th>\n",
       "      <td>[KOREAN LANGUAGE CHARACTERS].</td>\n",
       "      <td>NaN</td>\n",
       "      <td>2021-02-25 00:00:00</td>\n",
       "      <td>2021.0</td>\n",
       "      <td>2.0</td>\n",
       "      <td>25.0</td>\n",
       "      <td>NaN</td>\n",
       "      <td>fl</td>\n",
       "    </tr>\n",
       "    <tr>\n",
       "      <th>4</th>\n",
       "      <td>[KOREAN LANGUAGE CHARACTERS].</td>\n",
       "      <td>NaN</td>\n",
       "      <td>2021-02-25 00:00:00</td>\n",
       "      <td>2021.0</td>\n",
       "      <td>2.0</td>\n",
       "      <td>25.0</td>\n",
       "      <td>NaN</td>\n",
       "      <td>fl</td>\n",
       "    </tr>\n",
       "  </tbody>\n",
       "</table>\n",
       "</div>"
      ],
      "text/plain": [
       "                                       publication author  \\\n",
       "0                   [ARABIC LANGUAGE CHARACTERS].     NaN   \n",
       "1     [ARABIC LANGUAGE CHARACTERS]. TAJWEED QURAN.    NaN   \n",
       "2  [KOREAN LANGUAGE CHARACTERS] HOLY SPIRIT LOVE.     NaN   \n",
       "3                    [KOREAN LANGUAGE CHARACTERS].    NaN   \n",
       "4                   [KOREAN LANGUAGE CHARACTERS].     NaN   \n",
       "\n",
       "                  date    year  month   day reason state_arc  \n",
       "0  2019-12-18 00:00:00  2019.0   12.0  18.0    NaN        fl  \n",
       "1  2021-09-09 00:00:00  2021.0    9.0   9.0    NaN        fl  \n",
       "2  2021-02-25 00:00:00  2021.0    2.0  25.0    NaN        fl  \n",
       "3  2021-02-25 00:00:00  2021.0    2.0  25.0    NaN        fl  \n",
       "4  2021-02-25 00:00:00  2021.0    2.0  25.0    NaN        fl  "
      ]
     },
     "execution_count": 27,
     "metadata": {},
     "output_type": "execute_result"
    }
   ],
   "source": [
    "df = pd.read_csv('banned_book_data_combined_lists.csv')\n",
    "print(df.shape)\n",
    "df.head()"
   ]
  },
  {
   "cell_type": "code",
   "execution_count": 19,
   "id": "7c206604",
   "metadata": {},
   "outputs": [
    {
     "name": "stdout",
     "output_type": "stream",
     "text": [
      "Earliest year in this data set: 1991\n",
      "Latest year in this data set: 2022\n"
     ]
    }
   ],
   "source": [
    "print(f'Earliest year in this data set: {int(df[\"year\"].min())}')\n",
    "print(f'Latest year in this data set: {int(df[\"year\"].max())}')\n",
    "\n",
    "## Analysis is limited to data after 1990\n",
    "df = df[ df['year'] > 1990]\n",
    "df['year'] = df['year'].astype('int')"
   ]
  },
  {
   "cell_type": "markdown",
   "id": "eb4a8582",
   "metadata": {},
   "source": [
    "## Annual number of bans"
   ]
  },
  {
   "cell_type": "code",
   "execution_count": 3,
   "id": "0057c00d",
   "metadata": {},
   "outputs": [],
   "source": [
    "books_per_year = df.groupby('year')['publication'].count().to_dict()"
   ]
  },
  {
   "cell_type": "code",
   "execution_count": 4,
   "id": "21e14e25",
   "metadata": {},
   "outputs": [
    {
     "data": {
      "image/png": "[encoded data removed]",
      "text/plain": [
       "<Figure size 720x576 with 1 Axes>"
      ]
     },
     "metadata": {},
     "output_type": "display_data"
    }
   ],
   "source": [
    "x_axis = list(books_per_year.keys())\n",
    "y_axis = list(books_per_year.values())\n",
    "\n",
    "sns.set_style(\"darkgrid\", {\"grid.color\": \".6\", \"grid.linestyle\": \":\"})\n",
    "\n",
    "fig = plt.figure( figsize=( 10 , 8 ) )\n",
    "\n",
    "\n",
    "ax = sns.lineplot( x=x_axis , y=y_axis )\n",
    "plt.xticks(rotation= 80)\n",
    "plt.show()"
   ]
  },
  {
   "cell_type": "markdown",
   "id": "88e1a12f",
   "metadata": {},
   "source": [
    "## Has the motivation been specified in all cases?"
   ]
  },
  {
   "cell_type": "code",
   "execution_count": 52,
   "id": "a37fa293",
   "metadata": {},
   "outputs": [
    {
     "name": "stdout",
     "output_type": "stream",
     "text": [
      "The reason for the ban is given for 30229 titles.\n",
      "\n",
      "This is 54.69 percent of the 55278 titles in the dataset.\n"
     ]
    }
   ],
   "source": [
    "nr_titles = df.shape[0]\n",
    "nr_reasons_specified = df[ df['reason'].notna() ].shape[0]\n",
    "\n",
    "print(f\"The reason for the ban is given for {nr_reasons_specified} titles.\")\n",
    "print(f\"\\nThis is {round(nr_reasons_specified/nr_titles*100,2)} percent of the {nr_titles} titles in the dataset.\")"
   ]
  },
  {
   "cell_type": "code",
   "execution_count": 68,
   "id": "734b1c08",
   "metadata": {},
   "outputs": [
    {
     "name": "stdout",
     "output_type": "stream",
     "text": [
      "There are references to specific pages in 3176 cases.\n",
      "The references can be found in a file named \"references_to_pages.txt\"\n"
     ]
    }
   ],
   "source": [
    "count = 0\n",
    "\n",
    "file_name = 'references_to_pages.txt'\n",
    "out = open(file_name,'w',encoding='utf-8')\n",
    "for i,row in df[ df['reason'].notna() ].iterrows():\n",
    "    if re.search( r'(p\\.\\b)|(\\bpages?\\s+\\d+\\b)|(pg\\.\\b)', row['reason'],re.IGNORECASE):\n",
    "        count += 1\n",
    "        out.write(f\"{df['reason']}\\n\")\n",
    "out.close()\n",
    "        \n",
    "print(f'There are references to specific pages in {count} cases.')\n",
    "print(f'The references can be found in a file named \"{file_name}\"')"
   ]
  }
 ],
 "metadata": {
  "kernelspec": {
   "display_name": "Python 3 (ipykernel)",
   "language": "python",
   "name": "python3"
  },
  "language_info": {
   "codemirror_mode": {
    "name": "ipython",
    "version": 3
   },
   "file_extension": ".py",
   "mimetype": "text/x-python",
   "name": "python",
   "nbconvert_exporter": "python",
   "pygments_lexer": "ipython3",
   "version": "3.7.9"
  }
 },
 "nbformat": 4,
 "nbformat_minor": 5
}
