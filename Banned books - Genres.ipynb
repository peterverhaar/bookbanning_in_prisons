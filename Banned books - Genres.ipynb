{
 "cells": [
  {
   "cell_type": "code",
   "execution_count": 7,
   "id": "39663c30",
   "metadata": {},
   "outputs": [],
   "source": [
    "import pandas as pd\n",
    "import requests\n",
    "import json\n",
    "import re\n",
    "from tqdm import tqdm\n",
    "import random\n",
    "\n",
    "user_agents = [\n",
    "    'Mozilla/5.0 (Windows NT 10.0; Win64; x64) AppleWebKit/537.36 (KHTML, like Gecko) Chrome/109.0.0.0 Safari/537.36',\n",
    "    'Mozilla/5.0 (Macintosh; Intel Mac OS X 10_15_7) AppleWebKit/537.36 (KHTML, like Gecko) Chrome/109.0.0.0 Safari/537.36',\n",
    "    'Mozilla/5.0 (Windows NT 10.0; Win64; x64) AppleWebKit/537.36 (KHTML, like Gecko) Chrome/108.0.0.0 Safari/537.36',\n",
    "    'Mozilla/5.0 (Macintosh; Intel Mac OS X 10_15_7) AppleWebKit/537.36 (KHTML, like Gecko) Chrome/108.0.0.0 Safari/537.36',\n",
    "    'Mozilla/5.0 (X11; Linux x86_64) AppleWebKit/537.36 (KHTML, like Gecko) Chrome/108.0.0.0 Safari/537.36',\n",
    "    'Mozilla/5.0 (Macintosh; Intel Mac OS X 10_15_7) AppleWebKit/605.1.15 (KHTML, like Gecko) Version/16.1 Safari/605.1.15',\n",
    "    'Mozilla/5.0 (Macintosh; Intel Mac OS X 13_1) AppleWebKit/605.1.15 (KHTML, like Gecko) Version/16.1 Safari/605.1.15'\n",
    "]\n",
    "\n",
    "def select_agent():\n",
    "    n=random.randint(0,len(user_agents)-1)\n",
    "    return user_agents[n]"
   ]
  },
  {
   "cell_type": "code",
   "execution_count": 2,
   "id": "94ea0c09",
   "metadata": {},
   "outputs": [
    {
     "name": "stdout",
     "output_type": "stream",
     "text": [
      "(55278, 8)\n"
     ]
    }
   ],
   "source": [
    "df = pd.read_csv('banned_book_data_combined_lists.csv')\n",
    "print(df.shape)"
   ]
  },
  {
   "cell_type": "code",
   "execution_count": null,
   "id": "7c206604",
   "metadata": {},
   "outputs": [
    {
     "name": "stderr",
     "output_type": "stream",
     "text": [
      "742it [1:02:20,  1.42s/it]"
     ]
    }
   ],
   "source": [
    "genres = dict()\n",
    "titles = dict()\n",
    "\n",
    "with open('titles.csv','w',encoding='utf-8') as out:\n",
    "    for i,row in tqdm(df.iterrows()):\n",
    "        title = row['publication']\n",
    "        title = re.sub(r'\\s+','+',title)\n",
    "        url = f'https://openlibrary.org/search.json?q={title}'\n",
    "        #print(url)\n",
    "        headers = {'User-Agent': select_agent() }\n",
    "        response = requests.get(url, headers=headers)\n",
    "        if response:\n",
    "            json_data = response.json()\n",
    "            if len(json_data['docs'])>0:\n",
    "                publication = json_data['docs'][0]\n",
    "                if 'title' in publication:\n",
    "                    titles[row['publication']] = publication['title']\n",
    "\n",
    "                if 'subject' in publication:\n",
    "                    #print(json_data['docs'][0]['subject'])\n",
    "                    genres[row['publication']] = publication['subject']"
   ]
  },
  {
   "cell_type": "code",
   "execution_count": null,
   "id": "a412a23a",
   "metadata": {},
   "outputs": [],
   "source": [
    "# Convert and write JSON object to file\n",
    "with open(\"genres.json\", \"w\") as outfile: \n",
    "    json.dump(genres, outfile)"
   ]
  },
  {
   "cell_type": "code",
   "execution_count": null,
   "id": "52ba28d2",
   "metadata": {},
   "outputs": [],
   "source": []
  }
 ],
 "metadata": {
  "kernelspec": {
   "display_name": "Python 3 (ipykernel)",
   "language": "python",
   "name": "python3"
  },
  "language_info": {
   "codemirror_mode": {
    "name": "ipython",
    "version": 3
   },
   "file_extension": ".py",
   "mimetype": "text/x-python",
   "name": "python",
   "nbconvert_exporter": "python",
   "pygments_lexer": "ipython3",
   "version": "3.7.9"
  }
 },
 "nbformat": 4,
 "nbformat_minor": 5
}
