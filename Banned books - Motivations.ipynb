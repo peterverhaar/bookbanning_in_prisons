{
 "cells": [
  {
   "cell_type": "code",
   "execution_count": 1,
   "id": "39663c30",
   "metadata": {},
   "outputs": [],
   "source": [
    "import pandas as pd\n",
    "import matplotlib.pyplot as plt\n",
    "import seaborn as sns\n",
    "import re\n",
    "import numpy\n",
    "import os\n",
    "\n",
    "import nltk\n",
    "from nltk.grammar import DependencyGrammar\n",
    "from nltk.parse import DependencyGraph,ProjectiveDependencyParser,NonprojectiveDependencyParser\n",
    "\n",
    "from nltk import word_tokenize\n",
    "from collections import Counter\n",
    "\n",
    "from nltk.stem import WordNetLemmatizer\n",
    "lemmatiser = WordNetLemmatizer()\n",
    "\n",
    "from nltk.corpus import stopwords\n",
    "stopword_list = stopwords.words('english')\n",
    "\n",
    "import string\n",
    "for punct_mark in string.punctuation:\n",
    "    stopword_list.append(punct_mark)"
   ]
  },
  {
   "cell_type": "code",
   "execution_count": 2,
   "id": "94ea0c09",
   "metadata": {},
   "outputs": [
    {
     "name": "stdout",
     "output_type": "stream",
     "text": [
      "The dataset contains 30229 motivations.\n"
     ]
    }
   ],
   "source": [
    "df = pd.read_csv('banned_book_data_combined_lists.csv')\n",
    "df_reason = df[ df['reason'].notna() ]\n",
    "total_nr_reasons = df_reason.shape[0]\n",
    "print(f\"The dataset contains {total_nr_reasons} motivations.\")"
   ]
  },
  {
   "cell_type": "markdown",
   "id": "9a41e0cf",
   "metadata": {},
   "source": [
    "## Motivations"
   ]
  },
  {
   "cell_type": "code",
   "execution_count": 3,
   "id": "57670230",
   "metadata": {},
   "outputs": [],
   "source": [
    "lexicon = pd.read_csv('lexicon.csv')\n",
    "lexicon_terms = dict()\n",
    "\n",
    "for i,row in lexicon.iterrows():\n",
    "    if re.search(r'\\w',row['word']) and not(re.search(r'\\b\\d+\\b',row['word'])) and not(re.search(r'\\b\\d+\\b',row['category'])):\n",
    "        lexicon_terms[row['word']]=row['category'].strip()     "
   ]
  },
  {
   "cell_type": "code",
   "execution_count": 4,
   "id": "6570def0",
   "metadata": {},
   "outputs": [],
   "source": [
    "categories = dict()\n",
    "\n",
    "for i,row in df_reason.iterrows():\n",
    "    category_list = []\n",
    "    reason = str(row['reason']).lower()\n",
    "    words = word_tokenize(str(reason))\n",
    "    words = [word for word in words if word not in stopword_list]\n",
    "    words = [word for word in words if not(re.search(r'\\d+^$',word))]\n",
    "    words = [lemmatiser.lemmatize(word) for word in words]\n",
    "    for word in words:\n",
    "        if word in lexicon_terms:\n",
    "            category = lexicon_terms[word].strip()\n",
    "            category_list.append(category)\n",
    "    categories[f\"{i}#{reason}\"]=set(category_list)"
   ]
  },
  {
   "cell_type": "code",
   "execution_count": 5,
   "id": "a243f430",
   "metadata": {},
   "outputs": [
    {
     "name": "stdout",
     "output_type": "stream",
     "text": [
      "17683 motivations have been categorised.\n",
      "12546 motivations have NOT been assigned a category.\n"
     ]
    }
   ],
   "source": [
    "count=0\n",
    "for reason in categories:\n",
    "    if len(categories[reason])>0:\n",
    "        count+=1\n",
    "print(f'{count} motivations have been categorised.')\n",
    "print(f'{total_nr_reasons-count} motivations have NOT been assigned a category.')"
   ]
  },
  {
   "cell_type": "markdown",
   "id": "7bfb59b0",
   "metadata": {},
   "source": [
    "## The categorised motivations are saved in a TXT file"
   ]
  },
  {
   "cell_type": "code",
   "execution_count": 6,
   "id": "65c0abfe",
   "metadata": {},
   "outputs": [],
   "source": [
    "directory = 'Categories'\n",
    "if not os.path.exists(directory):\n",
    "    os.makedirs(directory)\n",
    "\n",
    "for category in set(lexicon_terms.values()):\n",
    "    file_name = os.path.join(directory,f'{category}.txt')\n",
    "    file_name = re.sub(r'\\s+' , '_' , file_name)\n",
    "    out = open(file_name,'w',encoding='utf-8')\n",
    "    out.close()\n",
    "\n",
    "file_name = os.path.join(directory,f'unknown.txt')\n",
    "out = open(file_name,'w',encoding='utf-8')\n",
    "out.close()"
   ]
  },
  {
   "cell_type": "code",
   "execution_count": 7,
   "id": "efba5518",
   "metadata": {},
   "outputs": [],
   "source": [
    "for i,row in df_reason.iterrows():\n",
    "    key = f\"{i}#{row['reason'].lower()}\"\n",
    "    if key in categories:\n",
    "        category_list = categories[key]\n",
    "        if len(category_list)==0:\n",
    "            with open(os.path.join(directory,f'unknown.txt'), \"a\") as fh:\n",
    "                fh.write(f\"{row['reason']}\\n\")\n",
    "        else:           \n",
    "            for category in category_list:\n",
    "                file_name = os.path.join(directory,f'{category}.txt')\n",
    "                file_name = re.sub(r'\\s+' , '_' , file_name)\n",
    "                with open(file_name, \"a\") as fh:\n",
    "                    fh.write(f\"{row['reason']}\\n\")\n",
    "\n",
    "        "
   ]
  },
  {
   "cell_type": "code",
   "execution_count": 8,
   "id": "2cbdf995",
   "metadata": {},
   "outputs": [],
   "source": [
    "category_count = dict()\n",
    "\n",
    "files = os.listdir(directory)\n",
    "files = [os.path.join(directory,file) for file in files if not(re.search('^[.]',file))]\n",
    "for file in files:\n",
    "    category = os.path.basename( os.path.splitext(file)[0] )\n",
    "    fh = open(file)\n",
    "    nr_lines = len(fh.readlines())\n",
    "\n",
    "    if category != 'unknown':\n",
    "        category_count[category] = nr_lines\n",
    "    "
   ]
  },
  {
   "cell_type": "code",
   "execution_count": 9,
   "id": "fcfbb974",
   "metadata": {},
   "outputs": [
    {
     "data": {
      "image/png": "[encoded data removed]",
      "text/plain": [
       "<Figure size 720x504 with 1 Axes>"
      ]
     },
     "metadata": {
      "needs_background": "light"
     },
     "output_type": "display_data"
    }
   ],
   "source": [
    "x_axis = list(category_count.keys())\n",
    "y_axis = list(category_count.values())\n",
    "\n",
    "import pandas as pd\n",
    "import matplotlib.pyplot as plt\n",
    "import seaborn as sns\n",
    "\n",
    "fig = plt.figure( figsize=( 10 , 7 ) )\n",
    "\n",
    "graph = sns.barplot( x=x_axis, y=y_axis , color = '#ebb434')\n",
    "\n",
    "graph.set_title('Motivations for banning books' , size = 20) \n",
    "graph.set_xlabel('Reason' , size = 14) \n",
    "graph.set_ylabel('Number of books' , size = 14 )\n",
    "\n",
    "plt.xticks(rotation= 80)\n",
    "# The next line places the legend outside out the plot\n",
    "\n",
    "\n",
    "plt.show()"
   ]
  }
 ],
 "metadata": {
  "kernelspec": {
   "display_name": "Python 3 (ipykernel)",
   "language": "python",
   "name": "python3"
  },
  "language_info": {
   "codemirror_mode": {
    "name": "ipython",
    "version": 3
   },
   "file_extension": ".py",
   "mimetype": "text/x-python",
   "name": "python",
   "nbconvert_exporter": "python",
   "pygments_lexer": "ipython3",
   "version": "3.7.9"
  }
 },
 "nbformat": 4,
 "nbformat_minor": 5
}
