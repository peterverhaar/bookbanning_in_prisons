{
 "cells": [
  {
   "cell_type": "code",
   "execution_count": 1,
   "id": "39663c30",
   "metadata": {},
   "outputs": [],
   "source": [
    "import pandas as pd\n",
    "import requests\n",
    "import json\n",
    "import re\n",
    "import os\n",
    "from tqdm import tqdm\n",
    "import random\n",
    "import xml.etree.ElementTree as ET\n",
    "\n",
    "\n",
    "key = 'QypW6JzQ4XfGViss1Ks4g'\n",
    "\n",
    "user_agents = [\n",
    "    'Mozilla/5.0 (Windows NT 10.0; Win64; x64) AppleWebKit/537.36 (KHTML, like Gecko) Chrome/109.0.0.0 Safari/537.36',\n",
    "    'Mozilla/5.0 (Macintosh; Intel Mac OS X 10_15_7) AppleWebKit/537.36 (KHTML, like Gecko) Chrome/109.0.0.0 Safari/537.36',\n",
    "    'Mozilla/5.0 (Windows NT 10.0; Win64; x64) AppleWebKit/537.36 (KHTML, like Gecko) Chrome/108.0.0.0 Safari/537.36',\n",
    "    'Mozilla/5.0 (Macintosh; Intel Mac OS X 10_15_7) AppleWebKit/537.36 (KHTML, like Gecko) Chrome/108.0.0.0 Safari/537.36',\n",
    "    'Mozilla/5.0 (X11; Linux x86_64) AppleWebKit/537.36 (KHTML, like Gecko) Chrome/108.0.0.0 Safari/537.36',\n",
    "    'Mozilla/5.0 (Macintosh; Intel Mac OS X 10_15_7) AppleWebKit/605.1.15 (KHTML, like Gecko) Version/16.1 Safari/605.1.15',\n",
    "    'Mozilla/5.0 (Macintosh; Intel Mac OS X 13_1) AppleWebKit/605.1.15 (KHTML, like Gecko) Version/16.1 Safari/605.1.15'\n",
    "]\n",
    "\n",
    "def select_agent():\n",
    "    n=random.randint(0,len(user_agents)-1)\n",
    "    return user_agents[n]"
   ]
  },
  {
   "cell_type": "code",
   "execution_count": 2,
   "id": "94ea0c09",
   "metadata": {},
   "outputs": [
    {
     "name": "stdout",
     "output_type": "stream",
     "text": [
      "(55278, 8)\n"
     ]
    }
   ],
   "source": [
    "df = pd.read_csv('banned_book_data_combined_lists.csv')\n",
    "print(df.shape)"
   ]
  },
  {
   "cell_type": "code",
   "execution_count": 3,
   "id": "7c206604",
   "metadata": {},
   "outputs": [],
   "source": [
    "genres = dict()\n",
    "titles = dict()\n",
    "\n",
    "directory = 'gr_shelves'\n",
    "\n",
    "\n",
    "# Check whether the specified path exists or not\n",
    "isExist = os.path.exists(directory)\n",
    "if not isExist:\n",
    "    os.makedirs(directory)\n",
    "    print(\"The new directory is created!\")\n",
    "\n",
    "\n",
    "with open('titles.csv','w',encoding='utf-8') as out:\n",
    "    for i,row in df.iterrows():\n",
    "        path = f'{directory}/{i}.txt'\n",
    "        if not(os.path.isfile(path)):\n",
    "            out = open(f'{directory}/{i}.txt','w',encoding='utf-8')\n",
    "            user_shelves = []\n",
    "            title = row['publication']\n",
    "            title = re.sub(r'\\s+','+',title)\n",
    "            url = f'https://www.goodreads.com/book/title.xml?key={key}&title={title}'\n",
    "            print(url)\n",
    "            headers = {'User-Agent': select_agent() }\n",
    "            response = requests.get(url, headers=headers)\n",
    "            if response:\n",
    "\n",
    "                xml_data = response.text\n",
    "                root = ET.fromstring(xml_data)\n",
    "                book = root.find('book')\n",
    "                out.write(book.find('id').text)\n",
    "                out.write('\\n')\n",
    "                out.write(row['publication'])\n",
    "                out.write('\\n')\n",
    "                out.write(book.find('title').text)\n",
    "                out.write('\\n')\n",
    "                shelves = book.findall('popular_shelves/shelf')\n",
    "                for shelf in shelves:\n",
    "                    #print(shelf.get('name'))\n",
    "                    out.write(f\"{shelf.get('name')}\\n\")\n",
    "\n",
    "            out.close()\n"
   ]
  },
  {
   "cell_type": "code",
   "execution_count": 4,
   "id": "693e627d",
   "metadata": {},
   "outputs": [],
   "source": [
    "# # Convert and write JSON object to file\n",
    "# with open(\"genres_gr.json\", \"w\") as outfile: \n",
    "#     json.dump(genres, outfile)"
   ]
  },
  {
   "cell_type": "code",
   "execution_count": null,
   "id": "1d6f24c1",
   "metadata": {},
   "outputs": [],
   "source": []
  }
 ],
 "metadata": {
  "kernelspec": {
   "display_name": "Python 3 (ipykernel)",
   "language": "python",
   "name": "python3"
  },
  "language_info": {
   "codemirror_mode": {
    "name": "ipython",
    "version": 3
   },
   "file_extension": ".py",
   "mimetype": "text/x-python",
   "name": "python",
   "nbconvert_exporter": "python",
   "pygments_lexer": "ipython3",
   "version": "3.7.9"
  }
 },
 "nbformat": 4,
 "nbformat_minor": 5
}
